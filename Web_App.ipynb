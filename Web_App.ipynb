{
  "nbformat": 4,
  "nbformat_minor": 0,
  "metadata": {
    "colab": {
      "name": "Epilepsy Detection",
      "provenance": [],
      "collapsed_sections": []
    },
    "kernelspec": {
      "display_name": "Python 3",
      "name": "python3"
    }
  },
  "cells": [
    {
      "cell_type": "code",
      "metadata": {
        "colab": {
          "base_uri": "https://localhost:8080/"
        },
        "id": "zmuz1G095NMO",
        "cellView": "form",
        "outputId": "480c89d3-f30b-43cd-a397-6692a6b6475b"
      },
      "source": [
        "#@title ##Import libraries!\n",
        "\n",
        "!pip -q install pyngrok\n",
        "!pip -q install streamlit\n",
        "\n",
        "from pyngrok import ngrok\n",
        "\n",
        "import numpy as np\n",
        "import pandas as pd\n",
        "import matplotlib.pyplot as plt\n",
        "\n",
        "from sklearn.metrics import accuracy_score, confusion_matrix, ConfusionMatrixDisplay\n",
        "from sklearn import model_selection\n",
        "from sklearn.model_selection import train_test_split\n",
        "\n",
        "import tensorflow as tf\n",
        "\n",
        "import keras\n",
        "from keras.models import Sequential\n",
        "from keras.layers import Embedding, Dense, SimpleRNN, LSTM\n",
        "from keras.wrappers.scikit_learn import KerasClassifier\n",
        "import keras.optimizers as optimizers\n",
        "from keras.callbacks import ModelCheckpoint\n",
        "monitor = ModelCheckpoint('./model.hdf5', \n",
        "                          monitor='val_accuracy', \n",
        "                          verbose=0, \n",
        "                          save_best_only=True, \n",
        "                          save_weights_only=False, \n",
        "                          mode='auto', \n",
        "                          save_freq='epoch')\n",
        "\n",
        "import gdown\n",
        "\n",
        "## Set random seed for reproducible results\n",
        "RAND_SEED = 12\n",
        "np.random.seed(RAND_SEED)\n",
        "tf.random.set_seed(RAND_SEED)\n",
        "\n",
        "## Utils function to combine 23 chunks from the same patient into one big chunk\n",
        "def prepare_data(eeg_df):\n",
        "  file_names = eeg_df['Unnamed: 0'].tolist()\n",
        "\n",
        "  subject_ids = []\n",
        "  chunk_ids = []\n",
        "  for fn in file_names:\n",
        "    subject_ids.append(fn.split('.')[-1])\n",
        "    chunk_ids.append(fn.split('.')[0])\n",
        "  subject_ids = list(set(subject_ids))\n",
        "  assert len(subject_ids) == 500\n",
        "\n",
        "  sub2ind = {}\n",
        "  for ind, sub in enumerate(subject_ids):\n",
        "    sub2ind[sub] = ind\n",
        "\n",
        "  eeg_combined = np.zeros((500, int(178*23)))\n",
        "  labels_combined = np.zeros(500)\n",
        "  labels_chunks = np.zeros((500, 23))\n",
        "  labels_dict = {}\n",
        "  for i in range(len(eeg_df)):\n",
        "    fn = eeg_df.iloc[i]['Unnamed: 0']\n",
        "    subject_id = fn.split('.')[-1]\n",
        "    subject_ind = sub2ind[subject_id]\n",
        "\n",
        "    chunk_id = int(fn.split('.')[0].split('X')[-1])\n",
        "    start_idx = (chunk_id - 1) * 178\n",
        "    end_idx = start_idx + 178\n",
        "    eeg_combined[subject_ind, start_idx:end_idx] = eeg_df.iloc[i].values[1:-1]\n",
        "\n",
        "    if subject_id not in labels_dict:\n",
        "      labels_dict[subject_id] = []\n",
        "    labels_dict[subject_id].append(eeg_df.iloc[i].values[-1])\n",
        "\n",
        "  for sub_id, labels in labels_dict.items():\n",
        "    sub_ind = sub2ind[sub_id]\n",
        "    is_seizure = int(np.any(np.array(labels) == 1))\n",
        "    labels_combined[sub_ind] = is_seizure\n",
        "    labels = np.array(labels)\n",
        "    labels = np.where(labels>1, 0, labels)\n",
        "    labels_chunks[sub_ind,:] = labels\n",
        "\n",
        "  return eeg_combined, labels_combined, labels_chunks"
      ],
      "execution_count": 1,
      "outputs": [
        {
          "output_type": "stream",
          "text": [
            "\u001b[?25l\r\u001b[K     |▍                               | 10kB 16.3MB/s eta 0:00:01\r\u001b[K     |▉                               | 20kB 16.1MB/s eta 0:00:01\r\u001b[K     |█▎                              | 30kB 12.7MB/s eta 0:00:01\r\u001b[K     |█▊                              | 40kB 10.0MB/s eta 0:00:01\r\u001b[K     |██▏                             | 51kB 7.5MB/s eta 0:00:01\r\u001b[K     |██▋                             | 61kB 8.0MB/s eta 0:00:01\r\u001b[K     |███                             | 71kB 8.2MB/s eta 0:00:01\r\u001b[K     |███▌                            | 81kB 8.2MB/s eta 0:00:01\r\u001b[K     |████                            | 92kB 8.0MB/s eta 0:00:01\r\u001b[K     |████▍                           | 102kB 8.2MB/s eta 0:00:01\r\u001b[K     |████▉                           | 112kB 8.2MB/s eta 0:00:01\r\u001b[K     |█████▎                          | 122kB 8.2MB/s eta 0:00:01\r\u001b[K     |█████▊                          | 133kB 8.2MB/s eta 0:00:01\r\u001b[K     |██████▏                         | 143kB 8.2MB/s eta 0:00:01\r\u001b[K     |██████▋                         | 153kB 8.2MB/s eta 0:00:01\r\u001b[K     |███████                         | 163kB 8.2MB/s eta 0:00:01\r\u001b[K     |███████▌                        | 174kB 8.2MB/s eta 0:00:01\r\u001b[K     |████████                        | 184kB 8.2MB/s eta 0:00:01\r\u001b[K     |████████▍                       | 194kB 8.2MB/s eta 0:00:01\r\u001b[K     |████████▉                       | 204kB 8.2MB/s eta 0:00:01\r\u001b[K     |█████████▎                      | 215kB 8.2MB/s eta 0:00:01\r\u001b[K     |█████████▊                      | 225kB 8.2MB/s eta 0:00:01\r\u001b[K     |██████████▏                     | 235kB 8.2MB/s eta 0:00:01\r\u001b[K     |██████████▌                     | 245kB 8.2MB/s eta 0:00:01\r\u001b[K     |███████████                     | 256kB 8.2MB/s eta 0:00:01\r\u001b[K     |███████████▍                    | 266kB 8.2MB/s eta 0:00:01\r\u001b[K     |███████████▉                    | 276kB 8.2MB/s eta 0:00:01\r\u001b[K     |████████████▎                   | 286kB 8.2MB/s eta 0:00:01\r\u001b[K     |████████████▊                   | 296kB 8.2MB/s eta 0:00:01\r\u001b[K     |█████████████▏                  | 307kB 8.2MB/s eta 0:00:01\r\u001b[K     |█████████████▋                  | 317kB 8.2MB/s eta 0:00:01\r\u001b[K     |██████████████                  | 327kB 8.2MB/s eta 0:00:01\r\u001b[K     |██████████████▌                 | 337kB 8.2MB/s eta 0:00:01\r\u001b[K     |███████████████                 | 348kB 8.2MB/s eta 0:00:01\r\u001b[K     |███████████████▍                | 358kB 8.2MB/s eta 0:00:01\r\u001b[K     |███████████████▉                | 368kB 8.2MB/s eta 0:00:01\r\u001b[K     |████████████████▎               | 378kB 8.2MB/s eta 0:00:01\r\u001b[K     |████████████████▊               | 389kB 8.2MB/s eta 0:00:01\r\u001b[K     |█████████████████▏              | 399kB 8.2MB/s eta 0:00:01\r\u001b[K     |█████████████████▋              | 409kB 8.2MB/s eta 0:00:01\r\u001b[K     |██████████████████              | 419kB 8.2MB/s eta 0:00:01\r\u001b[K     |██████████████████▌             | 430kB 8.2MB/s eta 0:00:01\r\u001b[K     |███████████████████             | 440kB 8.2MB/s eta 0:00:01\r\u001b[K     |███████████████████▍            | 450kB 8.2MB/s eta 0:00:01\r\u001b[K     |███████████████████▉            | 460kB 8.2MB/s eta 0:00:01\r\u001b[K     |████████████████████▎           | 471kB 8.2MB/s eta 0:00:01\r\u001b[K     |████████████████████▊           | 481kB 8.2MB/s eta 0:00:01\r\u001b[K     |█████████████████████           | 491kB 8.2MB/s eta 0:00:01\r\u001b[K     |█████████████████████▌          | 501kB 8.2MB/s eta 0:00:01\r\u001b[K     |██████████████████████          | 512kB 8.2MB/s eta 0:00:01\r\u001b[K     |██████████████████████▍         | 522kB 8.2MB/s eta 0:00:01\r\u001b[K     |██████████████████████▉         | 532kB 8.2MB/s eta 0:00:01\r\u001b[K     |███████████████████████▎        | 542kB 8.2MB/s eta 0:00:01\r\u001b[K     |███████████████████████▊        | 552kB 8.2MB/s eta 0:00:01\r\u001b[K     |████████████████████████▏       | 563kB 8.2MB/s eta 0:00:01\r\u001b[K     |████████████████████████▋       | 573kB 8.2MB/s eta 0:00:01\r\u001b[K     |█████████████████████████       | 583kB 8.2MB/s eta 0:00:01\r\u001b[K     |█████████████████████████▌      | 593kB 8.2MB/s eta 0:00:01\r\u001b[K     |██████████████████████████      | 604kB 8.2MB/s eta 0:00:01\r\u001b[K     |██████████████████████████▍     | 614kB 8.2MB/s eta 0:00:01\r\u001b[K     |██████████████████████████▉     | 624kB 8.2MB/s eta 0:00:01\r\u001b[K     |███████████████████████████▎    | 634kB 8.2MB/s eta 0:00:01\r\u001b[K     |███████████████████████████▊    | 645kB 8.2MB/s eta 0:00:01\r\u001b[K     |████████████████████████████▏   | 655kB 8.2MB/s eta 0:00:01\r\u001b[K     |████████████████████████████▋   | 665kB 8.2MB/s eta 0:00:01\r\u001b[K     |█████████████████████████████   | 675kB 8.2MB/s eta 0:00:01\r\u001b[K     |█████████████████████████████▌  | 686kB 8.2MB/s eta 0:00:01\r\u001b[K     |██████████████████████████████  | 696kB 8.2MB/s eta 0:00:01\r\u001b[K     |██████████████████████████████▍ | 706kB 8.2MB/s eta 0:00:01\r\u001b[K     |██████████████████████████████▉ | 716kB 8.2MB/s eta 0:00:01\r\u001b[K     |███████████████████████████████▏| 727kB 8.2MB/s eta 0:00:01\r\u001b[K     |███████████████████████████████▋| 737kB 8.2MB/s eta 0:00:01\r\u001b[K     |████████████████████████████████| 747kB 8.2MB/s \n",
            "\u001b[?25h  Building wheel for pyngrok (setup.py) ... \u001b[?25l\u001b[?25hdone\n",
            "\u001b[K     |████████████████████████████████| 7.0MB 7.1MB/s \n",
            "\u001b[K     |████████████████████████████████| 112kB 52.3MB/s \n",
            "\u001b[K     |████████████████████████████████| 4.6MB 47.3MB/s \n",
            "\u001b[K     |████████████████████████████████| 163kB 51.1MB/s \n",
            "\u001b[K     |████████████████████████████████| 81kB 7.8MB/s \n",
            "\u001b[K     |████████████████████████████████| 122kB 56.5MB/s \n",
            "\u001b[K     |████████████████████████████████| 71kB 7.5MB/s \n",
            "\u001b[?25h  Building wheel for blinker (setup.py) ... \u001b[?25l\u001b[?25hdone\n",
            "\u001b[31mERROR: google-colab 1.0.0 has requirement ipykernel~=4.10, but you'll have ipykernel 5.5.0 which is incompatible.\u001b[0m\n"
          ],
          "name": "stdout"
        }
      ]
    },
    {
      "cell_type": "code",
      "metadata": {
        "colab": {
          "base_uri": "https://localhost:8080/",
          "height": 103
        },
        "id": "skgNLHO1uV8m",
        "outputId": "b6410c93-87e5-4334-e3ce-1a3ee33ac632"
      },
      "source": [
        "#@title ## Download our data set!\n",
        "\n",
        "data_path = 'https://storage.googleapis.com/inspirit-ai-data-bucket-1/Data/Deep%20Dives/AI%20%2B%20Healthcare/Projects%20(Session%206%2B)/Seizure%20Prediction%20/data.csv'\n",
        "uci_epilepsy = './uci_epilepsy'\n",
        "gdown.download(data_path, uci_epilepsy, False)"
      ],
      "execution_count": 2,
      "outputs": [
        {
          "output_type": "stream",
          "text": [
            "Downloading...\n",
            "From: https://storage.googleapis.com/inspirit-ai-data-bucket-1/Data/Deep%20Dives/AI%20%2B%20Healthcare/Projects%20(Session%206%2B)/Seizure%20Prediction%20/data.csv\n",
            "To: /content/uci_epilepsy\n",
            "100%|██████████| 7.64M/7.64M [00:00<00:00, 79.8MB/s]\n"
          ],
          "name": "stderr"
        },
        {
          "output_type": "execute_result",
          "data": {
            "application/vnd.google.colaboratory.intrinsic+json": {
              "type": "string"
            },
            "text/plain": [
              "'./uci_epilepsy'"
            ]
          },
          "metadata": {
            "tags": []
          },
          "execution_count": 2
        }
      ]
    },
    {
      "cell_type": "code",
      "metadata": {
        "colab": {
          "base_uri": "https://localhost:8080/"
        },
        "id": "_gYoQd5e5a3P",
        "cellView": "form",
        "outputId": "45aec1e6-ffdb-43a4-bf64-e6ad85137c90"
      },
      "source": [
        "#@title ## Prepare our data set!\n",
        "\n",
        "eeg = pd.read_csv(uci_epilepsy)\n",
        "x, y, y_time_steps = prepare_data(eeg)\n",
        "\n",
        "# reshape x into (number_of_samples, number_of_time_steps, feature dimension)\n",
        "x = x.reshape(-1, 23, 178).astype(np.float32) \n",
        "np.save('sample', x[30])\n",
        "\n",
        "# reshape y into (num_of_samples, 1)\n",
        "y = y.astype(int).reshape(-1,1) \n",
        "\n",
        "print('Input x shape: ', x.shape)\n",
        "print('Label y shape: ', y.shape)"
      ],
      "execution_count": 4,
      "outputs": [
        {
          "output_type": "stream",
          "text": [
            "Input x shape:  (500, 23, 178)\n",
            "Label y shape:  (500, 1)\n"
          ],
          "name": "stdout"
        }
      ]
    },
    {
      "cell_type": "code",
      "metadata": {
        "colab": {
          "base_uri": "https://localhost:8080/"
        },
        "id": "D1Gh8BvK5wbP",
        "cellView": "form",
        "outputId": "04ccd957-fdfa-44a4-c861-39eb2a65a6db"
      },
      "source": [
        "#@title ## Train our model!\n",
        "\n",
        "x_train, x_test, y_train, y_test = train_test_split(x, y, test_size=0.2, random_state=2020)\n",
        "\n",
        "# Build a LSTM\n",
        "model = Sequential()\n",
        "model.add(LSTM(units=32, return_sequences=True))\n",
        "model.add(LSTM(units=32, return_sequences=True))\n",
        "model.add(LSTM(units=32, return_sequences=True))\n",
        "model.add(LSTM(units=32, return_sequences=True))\n",
        "model.add(LSTM(units=32, return_sequences=True))\n",
        "model.add(Dense(1, activation='sigmoid'))\n",
        "\n",
        "# Compile the LSTM\n",
        "model.compile(loss='binary_crossentropy',\n",
        "              optimizer = 'adam', \n",
        "              metrics = ['accuracy'])\n",
        "\n",
        "# Train the LSTM\n",
        "model.fit(x_train, y_train, validation_data=(x_test, y_test), epochs=20, callbacks=[monitor])\n",
        "\n",
        "# Predict on test data\n",
        "predictions = model.predict(x_test)\n",
        "predictions = predictions > 0.5\n",
        "\n",
        "### END CODE\n",
        "print('Test accuracy: ', accuracy_score(y_test, predictions[:, -1, :]))\n",
        "model.save('model.h5')"
      ],
      "execution_count": 5,
      "outputs": [
        {
          "output_type": "stream",
          "text": [
            "Epoch 1/20\n",
            "13/13 [==============================] - 12s 215ms/step - loss: 0.6686 - accuracy: 0.6848 - val_loss: 0.5677 - val_accuracy: 0.7700\n",
            "Epoch 2/20\n",
            "13/13 [==============================] - 1s 56ms/step - loss: 0.5089 - accuracy: 0.8141 - val_loss: 0.5491 - val_accuracy: 0.7700\n",
            "Epoch 3/20\n",
            "13/13 [==============================] - 1s 56ms/step - loss: 0.4274 - accuracy: 0.8201 - val_loss: 0.4742 - val_accuracy: 0.7948\n",
            "Epoch 4/20\n",
            "13/13 [==============================] - 1s 57ms/step - loss: 0.3456 - accuracy: 0.8879 - val_loss: 0.4853 - val_accuracy: 0.8087\n",
            "Epoch 5/20\n",
            "13/13 [==============================] - 1s 56ms/step - loss: 0.2560 - accuracy: 0.9342 - val_loss: 0.4808 - val_accuracy: 0.8222\n",
            "Epoch 6/20\n",
            "13/13 [==============================] - 1s 57ms/step - loss: 0.2123 - accuracy: 0.9443 - val_loss: 0.4718 - val_accuracy: 0.8243\n",
            "Epoch 7/20\n",
            "13/13 [==============================] - 1s 60ms/step - loss: 0.1852 - accuracy: 0.9543 - val_loss: 0.4840 - val_accuracy: 0.8257\n",
            "Epoch 8/20\n",
            "13/13 [==============================] - 1s 56ms/step - loss: 0.1683 - accuracy: 0.9585 - val_loss: 0.5028 - val_accuracy: 0.8365\n",
            "Epoch 9/20\n",
            "13/13 [==============================] - 1s 55ms/step - loss: 0.1957 - accuracy: 0.9468 - val_loss: 0.4914 - val_accuracy: 0.8470\n",
            "Epoch 10/20\n",
            "13/13 [==============================] - 1s 60ms/step - loss: 0.1735 - accuracy: 0.9536 - val_loss: 0.5637 - val_accuracy: 0.8378\n",
            "Epoch 11/20\n",
            "13/13 [==============================] - 1s 60ms/step - loss: 0.1090 - accuracy: 0.9742 - val_loss: 0.5490 - val_accuracy: 0.8491\n",
            "Epoch 12/20\n",
            "13/13 [==============================] - 1s 58ms/step - loss: 0.1277 - accuracy: 0.9680 - val_loss: 0.6248 - val_accuracy: 0.8378\n",
            "Epoch 13/20\n",
            "13/13 [==============================] - 1s 58ms/step - loss: 0.1038 - accuracy: 0.9755 - val_loss: 0.6123 - val_accuracy: 0.8478\n",
            "Epoch 14/20\n",
            "13/13 [==============================] - 1s 59ms/step - loss: 0.0983 - accuracy: 0.9776 - val_loss: 0.6496 - val_accuracy: 0.8417\n",
            "Epoch 15/20\n",
            "13/13 [==============================] - 1s 60ms/step - loss: 0.0836 - accuracy: 0.9788 - val_loss: 0.7190 - val_accuracy: 0.8335\n",
            "Epoch 16/20\n",
            "13/13 [==============================] - 1s 59ms/step - loss: 0.0921 - accuracy: 0.9757 - val_loss: 0.7477 - val_accuracy: 0.8339\n",
            "Epoch 17/20\n",
            "13/13 [==============================] - 1s 60ms/step - loss: 0.0778 - accuracy: 0.9821 - val_loss: 0.6677 - val_accuracy: 0.8465\n",
            "Epoch 18/20\n",
            "13/13 [==============================] - 1s 57ms/step - loss: 0.0927 - accuracy: 0.9767 - val_loss: 0.6413 - val_accuracy: 0.8565\n",
            "Epoch 19/20\n",
            "13/13 [==============================] - 1s 57ms/step - loss: 0.1043 - accuracy: 0.9724 - val_loss: 0.6306 - val_accuracy: 0.8517\n",
            "Epoch 20/20\n",
            "13/13 [==============================] - 1s 55ms/step - loss: 0.1090 - accuracy: 0.9721 - val_loss: 0.6972 - val_accuracy: 0.8304\n",
            "Test accuracy:  0.82\n"
          ],
          "name": "stdout"
        }
      ]
    },
    {
      "cell_type": "code",
      "metadata": {
        "cellView": "form",
        "colab": {
          "base_uri": "https://localhost:8080/"
        },
        "id": "fp7Phmim6E8v",
        "outputId": "e43a8ddb-2768-45c7-ad37-83c07658d23e"
      },
      "source": [
        "#@title ## Build our web application!\n",
        "\n",
        "%%writefile app.py\n",
        "import streamlit as st\n",
        "from joblib import dump, load\n",
        "\n",
        "import keras\n",
        "import numpy as np\n",
        "import pandas as pd\n",
        "import matplotlib.pyplot as plt\n",
        "\n",
        "model = keras.models.load_model('model.h5')\n",
        "\n",
        "st.title('Epilepsy Detector') \n",
        "uploaded_file = st.file_uploader('Upload Data')\n",
        "if uploaded_file is not None:\n",
        "  data = np.load(uploaded_file).reshape(1, 23, 178)\n",
        "  pred = model.predict(data)\n",
        "  confidence = pred[:, -1, :][0][0]\n",
        "  final_pred = pred > 0.5\n",
        "  final_pred = final_pred[:, -1, :][0][0]\n",
        "  if final_pred == 0:\n",
        "    st.write(f'The model is {round(100 - confidence, 2)}% confident that this patient DOES NOT have epilepsy.') \n",
        "  else:\n",
        "    st.write(f'The model is {round(confidence * 100, 2)}% confident that this patient DOES HAVE have epilepsy.') \n",
        "  st.line_chart(pd.DataFrame(pred.reshape(-1, 1)))\n"
      ],
      "execution_count": 6,
      "outputs": [
        {
          "output_type": "stream",
          "text": [
            "Writing app.py\n"
          ],
          "name": "stdout"
        }
      ]
    },
    {
      "cell_type": "code",
      "metadata": {
        "cellView": "form",
        "id": "5cB1AwdC7t0x",
        "colab": {
          "base_uri": "https://localhost:8080/"
        },
        "outputId": "51172e72-3524-47f9-b89a-b444dd5bf780"
      },
      "source": [
        "#@title ## Run our web application!\n",
        "\n",
        "public_url = ngrok.connect(port='80')\n",
        "print(public_url)\n",
        "!streamlit run app.py >/dev/null"
      ],
      "execution_count": 9,
      "outputs": [
        {
          "output_type": "stream",
          "text": [
            "NgrokTunnel: \"http://9a6fdeecf080.ngrok.io\" -> \"http://localhost:80\"\n",
            "2021-03-30 01:24:49.450670: I tensorflow/stream_executor/platform/default/dso_loader.cc:49] Successfully opened dynamic library libcudart.so.11.0\n",
            "2021-03-30 01:24:50.970018: I tensorflow/compiler/jit/xla_cpu_device.cc:41] Not creating XLA devices, tf_xla_enable_xla_devices not set\n",
            "2021-03-30 01:24:50.970961: I tensorflow/stream_executor/platform/default/dso_loader.cc:49] Successfully opened dynamic library libcuda.so.1\n",
            "2021-03-30 01:24:50.981820: E tensorflow/stream_executor/cuda/cuda_driver.cc:328] failed call to cuInit: CUDA_ERROR_NO_DEVICE: no CUDA-capable device is detected\n",
            "2021-03-30 01:24:50.981881: I tensorflow/stream_executor/cuda/cuda_diagnostics.cc:156] kernel driver does not appear to be running on this host (1a3e0a987a4d): /proc/driver/nvidia/version does not exist\n",
            "2021-03-30 01:24:50.982545: I tensorflow/compiler/jit/xla_gpu_device.cc:99] Not creating XLA devices, tf_xla_enable_xla_devices not set\n"
          ],
          "name": "stdout"
        }
      ]
    },
    {
      "cell_type": "code",
      "metadata": {
        "cellView": "form",
        "id": "xrt28bzg7wGP",
        "colab": {
          "base_uri": "https://localhost:8080/"
        },
        "outputId": "93b5d13b-121a-4c86-c871-98a13f01d9c6"
      },
      "source": [
        "#@title If you get an error above, run this to reinitialize Streamlit, then try again!\n",
        "%%writefile ~/.streamlit/config.toml\n",
        "[server]\n",
        "port = 80"
      ],
      "execution_count": 8,
      "outputs": [
        {
          "output_type": "stream",
          "text": [
            "Writing /root/.streamlit/config.toml\n"
          ],
          "name": "stdout"
        }
      ]
    }
  ]
}