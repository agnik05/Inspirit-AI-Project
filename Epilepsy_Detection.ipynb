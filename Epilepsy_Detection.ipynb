{
  "nbformat": 4,
  "nbformat_minor": 0,
  "metadata": {
    "colab": {
      "name": "Epilepsy Detection",
      "provenance": [],
      "collapsed_sections": []
    },
    "kernelspec": {
      "display_name": "Python 3",
      "name": "python3"
    }
  },
  "cells": [
    {
      "cell_type": "code",
      "metadata": {
        "cellView": "form",
        "colab": {
          "base_uri": "https://localhost:8080/"
        },
        "id": "zmuz1G095NMO",
        "outputId": "d0a4146d-94c1-4621-c7ba-f34710cffed6"
      },
      "source": [
        "#@title ##Import libraries!\n",
        "\n",
        "!pip -q install pyngrok\n",
        "!pip -q install streamlit\n",
        "\n",
        "from pyngrok import ngrok\n",
        "\n",
        "import numpy as np\n",
        "import pandas as pd\n",
        "import matplotlib.pyplot as plt\n",
        "\n",
        "from sklearn.metrics import accuracy_score, confusion_matrix, ConfusionMatrixDisplay\n",
        "from sklearn import model_selection\n",
        "from sklearn.model_selection import train_test_split\n",
        "\n",
        "import tensorflow as tf\n",
        "\n",
        "import keras\n",
        "from keras.models import Sequential\n",
        "from keras.layers import Embedding, Dense, SimpleRNN, LSTM\n",
        "from keras.wrappers.scikit_learn import KerasClassifier\n",
        "import keras.optimizers as optimizers\n",
        "from keras.callbacks import ModelCheckpoint\n",
        "monitor = ModelCheckpoint('./model.hdf5', \n",
        "                          monitor='val_accuracy', \n",
        "                          verbose=0, \n",
        "                          save_best_only=True, \n",
        "                          save_weights_only=False, \n",
        "                          mode='auto', \n",
        "                          save_freq='epoch')\n",
        "\n",
        "## Set random seed for reproducible results\n",
        "RAND_SEED = 12\n",
        "np.random.seed(RAND_SEED)\n",
        "tf.random.set_seed(RAND_SEED)\n",
        "\n",
        "## Utils function to combine 23 chunks from the same patient into one big chunk\n",
        "def prepare_data(eeg_df):\n",
        "  file_names = eeg_df['Unnamed: 0'].tolist()\n",
        "\n",
        "  subject_ids = []\n",
        "  chunk_ids = []\n",
        "  for fn in file_names:\n",
        "    subject_ids.append(fn.split('.')[-1])\n",
        "    chunk_ids.append(fn.split('.')[0])\n",
        "  subject_ids = list(set(subject_ids))\n",
        "  assert len(subject_ids) == 500\n",
        "\n",
        "  sub2ind = {}\n",
        "  for ind, sub in enumerate(subject_ids):\n",
        "    sub2ind[sub] = ind\n",
        "\n",
        "  eeg_combined = np.zeros((500, int(178*23)))\n",
        "  labels_combined = np.zeros(500)\n",
        "  labels_chunks = np.zeros((500, 23))\n",
        "  labels_dict = {}\n",
        "  for i in range(len(eeg_df)):\n",
        "    fn = eeg_df.iloc[i]['Unnamed: 0']\n",
        "    subject_id = fn.split('.')[-1]\n",
        "    subject_ind = sub2ind[subject_id]\n",
        "\n",
        "    chunk_id = int(fn.split('.')[0].split('X')[-1])\n",
        "    start_idx = (chunk_id - 1) * 178\n",
        "    end_idx = start_idx + 178\n",
        "    eeg_combined[subject_ind, start_idx:end_idx] = eeg_df.iloc[i].values[1:-1]\n",
        "\n",
        "    if subject_id not in labels_dict:\n",
        "      labels_dict[subject_id] = []\n",
        "    labels_dict[subject_id].append(eeg_df.iloc[i].values[-1])\n",
        "\n",
        "  for sub_id, labels in labels_dict.items():\n",
        "    sub_ind = sub2ind[sub_id]\n",
        "    is_seizure = int(np.any(np.array(labels) == 1))\n",
        "    labels_combined[sub_ind] = is_seizure\n",
        "    labels = np.array(labels)\n",
        "    labels = np.where(labels>1, 0, labels)\n",
        "    labels_chunks[sub_ind,:] = labels\n",
        "\n",
        "  return eeg_combined, labels_combined, labels_chunks"
      ],
      "execution_count": 1,
      "outputs": [
        {
          "output_type": "stream",
          "text": [
            "\u001b[?25l\r\u001b[K     |▍                               | 10kB 12.5MB/s eta 0:00:01\r\u001b[K     |▉                               | 20kB 14.2MB/s eta 0:00:01\r\u001b[K     |█▎                              | 30kB 8.2MB/s eta 0:00:01\r\u001b[K     |█▊                              | 40kB 7.4MB/s eta 0:00:01\r\u001b[K     |██▏                             | 51kB 4.6MB/s eta 0:00:01\r\u001b[K     |██▋                             | 61kB 4.9MB/s eta 0:00:01\r\u001b[K     |███                             | 71kB 4.3MB/s eta 0:00:01\r\u001b[K     |███▌                            | 81kB 4.8MB/s eta 0:00:01\r\u001b[K     |████                            | 92kB 5.3MB/s eta 0:00:01\r\u001b[K     |████▍                           | 102kB 5.8MB/s eta 0:00:01\r\u001b[K     |████▉                           | 112kB 5.8MB/s eta 0:00:01\r\u001b[K     |█████▎                          | 122kB 5.8MB/s eta 0:00:01\r\u001b[K     |█████▊                          | 133kB 5.8MB/s eta 0:00:01\r\u001b[K     |██████▏                         | 143kB 5.8MB/s eta 0:00:01\r\u001b[K     |██████▋                         | 153kB 5.8MB/s eta 0:00:01\r\u001b[K     |███████                         | 163kB 5.8MB/s eta 0:00:01\r\u001b[K     |███████▌                        | 174kB 5.8MB/s eta 0:00:01\r\u001b[K     |████████                        | 184kB 5.8MB/s eta 0:00:01\r\u001b[K     |████████▍                       | 194kB 5.8MB/s eta 0:00:01\r\u001b[K     |████████▉                       | 204kB 5.8MB/s eta 0:00:01\r\u001b[K     |█████████▎                      | 215kB 5.8MB/s eta 0:00:01\r\u001b[K     |█████████▊                      | 225kB 5.8MB/s eta 0:00:01\r\u001b[K     |██████████▏                     | 235kB 5.8MB/s eta 0:00:01\r\u001b[K     |██████████▌                     | 245kB 5.8MB/s eta 0:00:01\r\u001b[K     |███████████                     | 256kB 5.8MB/s eta 0:00:01\r\u001b[K     |███████████▍                    | 266kB 5.8MB/s eta 0:00:01\r\u001b[K     |███████████▉                    | 276kB 5.8MB/s eta 0:00:01\r\u001b[K     |████████████▎                   | 286kB 5.8MB/s eta 0:00:01\r\u001b[K     |████████████▊                   | 296kB 5.8MB/s eta 0:00:01\r\u001b[K     |█████████████▏                  | 307kB 5.8MB/s eta 0:00:01\r\u001b[K     |█████████████▋                  | 317kB 5.8MB/s eta 0:00:01\r\u001b[K     |██████████████                  | 327kB 5.8MB/s eta 0:00:01\r\u001b[K     |██████████████▌                 | 337kB 5.8MB/s eta 0:00:01\r\u001b[K     |███████████████                 | 348kB 5.8MB/s eta 0:00:01\r\u001b[K     |███████████████▍                | 358kB 5.8MB/s eta 0:00:01\r\u001b[K     |███████████████▉                | 368kB 5.8MB/s eta 0:00:01\r\u001b[K     |████████████████▎               | 378kB 5.8MB/s eta 0:00:01\r\u001b[K     |████████████████▊               | 389kB 5.8MB/s eta 0:00:01\r\u001b[K     |█████████████████▏              | 399kB 5.8MB/s eta 0:00:01\r\u001b[K     |█████████████████▋              | 409kB 5.8MB/s eta 0:00:01\r\u001b[K     |██████████████████              | 419kB 5.8MB/s eta 0:00:01\r\u001b[K     |██████████████████▌             | 430kB 5.8MB/s eta 0:00:01\r\u001b[K     |███████████████████             | 440kB 5.8MB/s eta 0:00:01\r\u001b[K     |███████████████████▍            | 450kB 5.8MB/s eta 0:00:01\r\u001b[K     |███████████████████▉            | 460kB 5.8MB/s eta 0:00:01\r\u001b[K     |████████████████████▎           | 471kB 5.8MB/s eta 0:00:01\r\u001b[K     |████████████████████▊           | 481kB 5.8MB/s eta 0:00:01\r\u001b[K     |█████████████████████           | 491kB 5.8MB/s eta 0:00:01\r\u001b[K     |█████████████████████▌          | 501kB 5.8MB/s eta 0:00:01\r\u001b[K     |██████████████████████          | 512kB 5.8MB/s eta 0:00:01\r\u001b[K     |██████████████████████▍         | 522kB 5.8MB/s eta 0:00:01\r\u001b[K     |██████████████████████▉         | 532kB 5.8MB/s eta 0:00:01\r\u001b[K     |███████████████████████▎        | 542kB 5.8MB/s eta 0:00:01\r\u001b[K     |███████████████████████▊        | 552kB 5.8MB/s eta 0:00:01\r\u001b[K     |████████████████████████▏       | 563kB 5.8MB/s eta 0:00:01\r\u001b[K     |████████████████████████▋       | 573kB 5.8MB/s eta 0:00:01\r\u001b[K     |█████████████████████████       | 583kB 5.8MB/s eta 0:00:01\r\u001b[K     |█████████████████████████▌      | 593kB 5.8MB/s eta 0:00:01\r\u001b[K     |██████████████████████████      | 604kB 5.8MB/s eta 0:00:01\r\u001b[K     |██████████████████████████▍     | 614kB 5.8MB/s eta 0:00:01\r\u001b[K     |██████████████████████████▉     | 624kB 5.8MB/s eta 0:00:01\r\u001b[K     |███████████████████████████▎    | 634kB 5.8MB/s eta 0:00:01\r\u001b[K     |███████████████████████████▊    | 645kB 5.8MB/s eta 0:00:01\r\u001b[K     |████████████████████████████▏   | 655kB 5.8MB/s eta 0:00:01\r\u001b[K     |████████████████████████████▋   | 665kB 5.8MB/s eta 0:00:01\r\u001b[K     |█████████████████████████████   | 675kB 5.8MB/s eta 0:00:01\r\u001b[K     |█████████████████████████████▌  | 686kB 5.8MB/s eta 0:00:01\r\u001b[K     |██████████████████████████████  | 696kB 5.8MB/s eta 0:00:01\r\u001b[K     |██████████████████████████████▍ | 706kB 5.8MB/s eta 0:00:01\r\u001b[K     |██████████████████████████████▉ | 716kB 5.8MB/s eta 0:00:01\r\u001b[K     |███████████████████████████████▏| 727kB 5.8MB/s eta 0:00:01\r\u001b[K     |███████████████████████████████▋| 737kB 5.8MB/s eta 0:00:01\r\u001b[K     |████████████████████████████████| 747kB 5.8MB/s \n",
            "\u001b[?25h  Building wheel for pyngrok (setup.py) ... \u001b[?25l\u001b[?25hdone\n",
            "\u001b[K     |████████████████████████████████| 7.0MB 5.1MB/s \n",
            "\u001b[K     |████████████████████████████████| 81kB 5.1MB/s \n",
            "\u001b[K     |████████████████████████████████| 112kB 50.2MB/s \n",
            "\u001b[K     |████████████████████████████████| 163kB 41.5MB/s \n",
            "\u001b[K     |████████████████████████████████| 4.6MB 50.0MB/s \n",
            "\u001b[K     |████████████████████████████████| 71kB 5.5MB/s \n",
            "\u001b[K     |████████████████████████████████| 122kB 48.8MB/s \n",
            "\u001b[?25h  Building wheel for blinker (setup.py) ... \u001b[?25l\u001b[?25hdone\n",
            "\u001b[31mERROR: google-colab 1.0.0 has requirement ipykernel~=4.10, but you'll have ipykernel 5.5.0 which is incompatible.\u001b[0m\n"
          ],
          "name": "stdout"
        }
      ]
    },
    {
      "cell_type": "code",
      "metadata": {
        "cellView": "form",
        "colab": {
          "base_uri": "https://localhost:8080/"
        },
        "id": "_gYoQd5e5a3P",
        "outputId": "51f5b551-b814-4557-c234-23023ed7cc66"
      },
      "source": [
        "#@title ## Prepare our data set!\n",
        "\n",
        "#eeg = pd.read_csv(uci_epilepsy)\n",
        "eeg = pd.read_csv('data.csv')\n",
        "x, y, y_time_steps = prepare_data(eeg)\n",
        "\n",
        "# reshape x into (number_of_samples, number_of_time_steps, feature dimension)\n",
        "x = x.reshape(-1, 23, 178).astype(np.float32) \n",
        "np.save('sample', x[30])\n",
        "\n",
        "# reshape y into (num_of_samples, 1)\n",
        "y = y.astype(int).reshape(-1,1) \n",
        "\n",
        "print('Input x shape: ', x.shape)\n",
        "print('Label y shape: ', y.shape)"
      ],
      "execution_count": 2,
      "outputs": [
        {
          "output_type": "stream",
          "text": [
            "Input x shape:  (500, 23, 178)\n",
            "Label y shape:  (500, 1)\n"
          ],
          "name": "stdout"
        }
      ]
    },
    {
      "cell_type": "code",
      "metadata": {
        "colab": {
          "base_uri": "https://localhost:8080/"
        },
        "id": "D1Gh8BvK5wbP",
        "cellView": "form",
        "outputId": "e8737cc1-3d4b-49de-dd69-82d2c375eef5"
      },
      "source": [
        "#@title ## Train our model!\n",
        "\n",
        "x_train, x_test, y_train, y_test = train_test_split(x, y, test_size=0.2, random_state=2020)\n",
        "\n",
        "# Build a LSTM\n",
        "model = Sequential()\n",
        "model.add(LSTM(units=32, return_sequences=True))\n",
        "model.add(LSTM(units=32, return_sequences=True))\n",
        "model.add(LSTM(units=32, return_sequences=True))\n",
        "model.add(LSTM(units=32, return_sequences=True))\n",
        "model.add(LSTM(units=32, return_sequences=True))\n",
        "model.add(Dense(1, activation='sigmoid'))\n",
        "\n",
        "# Compile the LSTM\n",
        "model.compile(loss='binary_crossentropy',\n",
        "              optimizer = 'adam', \n",
        "              metrics = ['accuracy'])\n",
        "\n",
        "# Train the LSTM\n",
        "model.fit(x_train, y_train, validation_data=(x_test, y_test), epochs=20, callbacks=[monitor])\n",
        "\n",
        "# Predict on test data\n",
        "predictions = model.predict(x_test)\n",
        "predictions = predictions > 0.5\n",
        "\n",
        "### END CODE\n",
        "print('Test accuracy: ', accuracy_score(y_test, predictions[:, -1, :]))\n",
        "model.save('model.h5')"
      ],
      "execution_count": 3,
      "outputs": [
        {
          "output_type": "stream",
          "text": [
            "Epoch 1/20\n",
            "13/13 [==============================] - 13s 233ms/step - loss: 0.6706 - accuracy: 0.6813 - val_loss: 0.5525 - val_accuracy: 0.8100\n",
            "Epoch 2/20\n",
            "13/13 [==============================] - 1s 58ms/step - loss: 0.5288 - accuracy: 0.7923 - val_loss: 0.4786 - val_accuracy: 0.8100\n",
            "Epoch 3/20\n",
            "13/13 [==============================] - 1s 55ms/step - loss: 0.4533 - accuracy: 0.8012 - val_loss: 0.4093 - val_accuracy: 0.8430\n",
            "Epoch 4/20\n",
            "13/13 [==============================] - 1s 55ms/step - loss: 0.3662 - accuracy: 0.8837 - val_loss: 0.3867 - val_accuracy: 0.8674\n",
            "Epoch 5/20\n",
            "13/13 [==============================] - 1s 59ms/step - loss: 0.3044 - accuracy: 0.9130 - val_loss: 0.3545 - val_accuracy: 0.8817\n",
            "Epoch 6/20\n",
            "13/13 [==============================] - 1s 54ms/step - loss: 0.2482 - accuracy: 0.9323 - val_loss: 0.3827 - val_accuracy: 0.8630\n",
            "Epoch 7/20\n",
            "13/13 [==============================] - 1s 56ms/step - loss: 0.2217 - accuracy: 0.9373 - val_loss: 0.4106 - val_accuracy: 0.8600\n",
            "Epoch 8/20\n",
            "13/13 [==============================] - 1s 58ms/step - loss: 0.1966 - accuracy: 0.9455 - val_loss: 0.4435 - val_accuracy: 0.8643\n",
            "Epoch 9/20\n",
            "13/13 [==============================] - 1s 57ms/step - loss: 0.1659 - accuracy: 0.9556 - val_loss: 0.3933 - val_accuracy: 0.8826\n",
            "Epoch 10/20\n",
            "13/13 [==============================] - 1s 55ms/step - loss: 0.1279 - accuracy: 0.9635 - val_loss: 0.3512 - val_accuracy: 0.8957\n",
            "Epoch 11/20\n",
            "13/13 [==============================] - 1s 58ms/step - loss: 0.1358 - accuracy: 0.9601 - val_loss: 0.3320 - val_accuracy: 0.9004\n",
            "Epoch 12/20\n",
            "13/13 [==============================] - 1s 58ms/step - loss: 0.1409 - accuracy: 0.9587 - val_loss: 0.3933 - val_accuracy: 0.8804\n",
            "Epoch 13/20\n",
            "13/13 [==============================] - 1s 57ms/step - loss: 0.1158 - accuracy: 0.9715 - val_loss: 0.4370 - val_accuracy: 0.8796\n",
            "Epoch 14/20\n",
            "13/13 [==============================] - 1s 61ms/step - loss: 0.1258 - accuracy: 0.9662 - val_loss: 0.5042 - val_accuracy: 0.8643\n",
            "Epoch 15/20\n",
            "13/13 [==============================] - 1s 58ms/step - loss: 0.0900 - accuracy: 0.9791 - val_loss: 0.5507 - val_accuracy: 0.8522\n",
            "Epoch 16/20\n",
            "13/13 [==============================] - 1s 56ms/step - loss: 0.0834 - accuracy: 0.9788 - val_loss: 0.6075 - val_accuracy: 0.8504\n",
            "Epoch 17/20\n",
            "13/13 [==============================] - 1s 57ms/step - loss: 0.0704 - accuracy: 0.9846 - val_loss: 0.4365 - val_accuracy: 0.8878\n",
            "Epoch 18/20\n",
            "13/13 [==============================] - 1s 66ms/step - loss: 0.0655 - accuracy: 0.9828 - val_loss: 0.5164 - val_accuracy: 0.8757\n",
            "Epoch 19/20\n",
            "13/13 [==============================] - 1s 60ms/step - loss: 0.0786 - accuracy: 0.9806 - val_loss: 0.4857 - val_accuracy: 0.8774\n",
            "Epoch 20/20\n",
            "13/13 [==============================] - 1s 55ms/step - loss: 0.0813 - accuracy: 0.9778 - val_loss: 0.4789 - val_accuracy: 0.8804\n",
            "Test accuracy:  0.92\n"
          ],
          "name": "stdout"
        }
      ]
    },
    {
      "cell_type": "code",
      "metadata": {
        "cellView": "form",
        "colab": {
          "base_uri": "https://localhost:8080/"
        },
        "id": "fp7Phmim6E8v",
        "outputId": "b7c6bb54-9af4-4178-d3a8-49bbacad7220"
      },
      "source": [
        "#@title ## Build our web application!\n",
        "\n",
        "%%writefile app.py\n",
        "import streamlit as st\n",
        "from joblib import dump, load\n",
        "\n",
        "import keras\n",
        "import numpy as np\n",
        "import pandas as pd\n",
        "import matplotlib.pyplot as plt\n",
        "\n",
        "model = keras.models.load_model('model.h5')\n",
        "\n",
        "st.title('Epilepsy Detector') \n",
        "uploaded_file = st.file_uploader('Upload Data')\n",
        "if uploaded_file is not None:\n",
        "  data = np.load(uploaded_file).reshape(1, 23, 178)\n",
        "  pred = model.predict(data)\n",
        "  confidence = pred[:, -1, :][0][0]\n",
        "  final_pred = pred > 0.5\n",
        "  final_pred = final_pred[:, -1, :][0][0]\n",
        "  if final_pred == 0:\n",
        "    st.write(f'The model is {round(100 - confidence, 2)}% confident that this patient DOES NOT have epilepsy.') \n",
        "  else:\n",
        "    st.write(f'The model is {round(confidence * 100, 2)}% confident that this patient DOES HAVE have epilepsy.') \n",
        "  st.line_chart(pd.DataFrame(pred.reshape(-1, 1)))\n"
      ],
      "execution_count": 4,
      "outputs": [
        {
          "output_type": "stream",
          "text": [
            "Writing app.py\n"
          ],
          "name": "stdout"
        }
      ]
    },
    {
      "cell_type": "code",
      "metadata": {
        "cellView": "form",
        "id": "5cB1AwdC7t0x",
        "colab": {
          "base_uri": "https://localhost:8080/"
        },
        "outputId": "4fd48647-dbf2-42f5-879f-cd3c843bf5bb"
      },
      "source": [
        "#@title ## Run our web application!\n",
        "\n",
        "public_url = ngrok.connect(port='80')\n",
        "print(public_url)\n",
        "!streamlit run app.py >/dev/null"
      ],
      "execution_count": 7,
      "outputs": [
        {
          "output_type": "stream",
          "text": [
            "NgrokTunnel: \"http://6a68db384611.ngrok.io\" -> \"http://localhost:80\"\n",
            "2021-03-27 20:02:50.362988: I tensorflow/stream_executor/platform/default/dso_loader.cc:49] Successfully opened dynamic library libcudart.so.11.0\n",
            "2021-03-27 20:02:51.827261: I tensorflow/compiler/jit/xla_cpu_device.cc:41] Not creating XLA devices, tf_xla_enable_xla_devices not set\n",
            "2021-03-27 20:02:51.828214: I tensorflow/stream_executor/platform/default/dso_loader.cc:49] Successfully opened dynamic library libcuda.so.1\n",
            "2021-03-27 20:02:51.843579: E tensorflow/stream_executor/cuda/cuda_driver.cc:328] failed call to cuInit: CUDA_ERROR_NO_DEVICE: no CUDA-capable device is detected\n",
            "2021-03-27 20:02:51.843635: I tensorflow/stream_executor/cuda/cuda_diagnostics.cc:156] kernel driver does not appear to be running on this host (8bef5eb6c454): /proc/driver/nvidia/version does not exist\n",
            "2021-03-27 20:02:51.844369: I tensorflow/compiler/jit/xla_gpu_device.cc:99] Not creating XLA devices, tf_xla_enable_xla_devices not set\n"
          ],
          "name": "stdout"
        }
      ]
    },
    {
      "cell_type": "code",
      "metadata": {
        "cellView": "form",
        "id": "xrt28bzg7wGP",
        "colab": {
          "base_uri": "https://localhost:8080/"
        },
        "outputId": "4d35f2d0-61f0-496c-b3fb-6fbac58c2fc0"
      },
      "source": [
        "#@title If you get an error above, run this to reinitialize Streamlit, then try again!\n",
        "%%writefile ~/.streamlit/config.toml\n",
        "[server]\n",
        "port = 80"
      ],
      "execution_count": 6,
      "outputs": [
        {
          "output_type": "stream",
          "text": [
            "Writing /root/.streamlit/config.toml\n"
          ],
          "name": "stdout"
        }
      ]
    }
  ]
}